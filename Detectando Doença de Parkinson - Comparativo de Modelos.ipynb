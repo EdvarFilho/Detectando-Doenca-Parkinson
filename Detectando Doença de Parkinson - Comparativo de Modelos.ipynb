{
 "cells": [
  {
   "cell_type": "markdown",
   "metadata": {},
   "source": [
    "##### Detectando Doença de Parkinson\n",
    "## Uma Comparação de Modelos de Aprendizagem de Máquina\n",
    "\n",
    "---\n",
    "\n",
    "\n",
    "## Problemática\n",
    "A doença de Parkinson (DP) é um distúrbio neurodegenerativo progressivo caracterizado por um grande número de características motoras e não motoras. A DP é a segunda doença neurodegenerativa mais comum após Alzheimer, observada em pessoas acima de 60 anos.\n",
    "\n",
    "Visto que aproximadamente **90% dos pacientes com DP** exibem algum tipo de distúrbio vocal nos estágios iniciais da doença, o presente notebook possui o objetivo de **comparar modelos que possam classificar se determinada coleta de exame médico é de um paciente com Doença de Parkinson ou não**, consistindo **ao todo em 756 registros de coletas**, sendo 564 coletas atribuídas a 188 pacientes com Doença de Parkinson e 192 coletas refrentes a 64 pacientes saudáveis.\n",
    "\n",
    "Aqui utilizaremos os seguintes algoritmos de aprendizagem de máquina para compará-los entre si:\n",
    "> - Regressão Logística\n",
    "> - Análise de Discriminante Gaussiano\n",
    "> - Árvore de Decisão\n",
    "> - SVM\n",
    "> - Random Forest\n",
    "> - KNN\n",
    "> - Processo Gaussiano\n",
    "\n",
    "\n",
    "## Fonte dos Dados\n",
    "O dataset utilizado para este problema foi retirado do [Kaggle]( https://www.kaggle.com/dipayanbiswas/parkinsons-disease-speech-signal-features), fruto de uma coleta de exames ralizados no Departamento de Neurologia da Faculdade de Medicina de Cerrahpaşa, Universidade de Istambu, consiste em **756 coletas de exames médicos**, sendo três coletas para cada paciente, destes **188 possuem a Doença de Parkinson** e **84 saudáveis** totalizando exames de 252 pacientes.\n",
    "\n",
    "## Sumário\n",
    "#### 1. Importações\n",
    "#### 2. Leitura dos Dados\n",
    "#### 3. Redução de Dimensionalidade dos Dados\n",
    "#### 4. Avaliação dos Modelos"
   ]
  },
  {
   "cell_type": "markdown",
   "metadata": {},
   "source": [
    "# 1. Importações"
   ]
  },
  {
   "cell_type": "code",
   "execution_count": 1,
   "metadata": {},
   "outputs": [
    {
     "name": "stderr",
     "output_type": "stream",
     "text": [
      "In C:\\Users\\edvar.filho\\AppData\\Local\\Continuum\\anaconda3\\lib\\site-packages\\matplotlib\\mpl-data\\stylelib\\_classic_test.mplstyle: \n",
      "The text.latex.preview rcparam was deprecated in Matplotlib 3.3 and will be removed two minor releases later.\n",
      "In C:\\Users\\edvar.filho\\AppData\\Local\\Continuum\\anaconda3\\lib\\site-packages\\matplotlib\\mpl-data\\stylelib\\_classic_test.mplstyle: \n",
      "The mathtext.fallback_to_cm rcparam was deprecated in Matplotlib 3.3 and will be removed two minor releases later.\n",
      "In C:\\Users\\edvar.filho\\AppData\\Local\\Continuum\\anaconda3\\lib\\site-packages\\matplotlib\\mpl-data\\stylelib\\_classic_test.mplstyle: Support for setting the 'mathtext.fallback_to_cm' rcParam is deprecated since 3.3 and will be removed two minor releases later; use 'mathtext.fallback : 'cm' instead.\n",
      "In C:\\Users\\edvar.filho\\AppData\\Local\\Continuum\\anaconda3\\lib\\site-packages\\matplotlib\\mpl-data\\stylelib\\_classic_test.mplstyle: \n",
      "The validate_bool_maybe_none function was deprecated in Matplotlib 3.3 and will be removed two minor releases later.\n",
      "In C:\\Users\\edvar.filho\\AppData\\Local\\Continuum\\anaconda3\\lib\\site-packages\\matplotlib\\mpl-data\\stylelib\\_classic_test.mplstyle: \n",
      "The savefig.jpeg_quality rcparam was deprecated in Matplotlib 3.3 and will be removed two minor releases later.\n",
      "In C:\\Users\\edvar.filho\\AppData\\Local\\Continuum\\anaconda3\\lib\\site-packages\\matplotlib\\mpl-data\\stylelib\\_classic_test.mplstyle: \n",
      "The keymap.all_axes rcparam was deprecated in Matplotlib 3.3 and will be removed two minor releases later.\n",
      "In C:\\Users\\edvar.filho\\AppData\\Local\\Continuum\\anaconda3\\lib\\site-packages\\matplotlib\\mpl-data\\stylelib\\_classic_test.mplstyle: \n",
      "The animation.avconv_path rcparam was deprecated in Matplotlib 3.3 and will be removed two minor releases later.\n",
      "In C:\\Users\\edvar.filho\\AppData\\Local\\Continuum\\anaconda3\\lib\\site-packages\\matplotlib\\mpl-data\\stylelib\\_classic_test.mplstyle: \n",
      "The animation.avconv_args rcparam was deprecated in Matplotlib 3.3 and will be removed two minor releases later.\n"
     ]
    }
   ],
   "source": [
    "import numpy as np\n",
    "import pandas as pd\n",
    "import warnings\n",
    "import random\n",
    "import seaborn as sb\n",
    "import matplotlib.pyplot as plt\n",
    "from statistics import mean\n",
    "from math import log, pi, sqrt\n",
    "%matplotlib inline\n",
    "\n",
    "from scipy.linalg import svd \n",
    "from sklearn import linear_model, datasets, svm, metrics\n",
    "import scipy.linalg as la\n",
    "from scipy.stats import norm\n",
    "from scipy.stats import multivariate_normal\n",
    "from sklearn.metrics import accuracy_score, classification_report\n",
    "from sklearn.model_selection import GridSearchCV, train_test_split\n",
    "from sklearn.metrics import confusion_matrix, f1_score, roc_curve, auc\n",
    "from mlxtend.plotting import plot_confusion_matrix\n",
    "\n",
    "from sklearn.svm import SVC\n",
    "from sklearn.tree import DecisionTreeClassifier\n",
    "from sklearn.neighbors import DistanceMetric, KNeighborsClassifier\n",
    "from sklearn.ensemble import RandomForestClassifier\n",
    "from sklearn.gaussian_process import GaussianProcessClassifier\n",
    "from sklearn.gaussian_process.kernels import RBF, Matern, RationalQuadratic, ExpSineSquared\n",
    "from modelos import distance_euclidian, distance_manhattan, fitAD, fitAGD, fitRF, fitRL, fitSVM, predict1AGD, predict1KNN, predictAD, predictAGD, predictKNN, predictRF, predictRL, predictSVM, sigmoide, fitGP, predictGP, train_testSplit \n",
    "warnings.filterwarnings(\"ignore\")\n",
    "np.random.seed(12345)"
   ]
  },
  {
   "cell_type": "markdown",
   "metadata": {},
   "source": [
    "# 2. Leitura dos Dados"
   ]
  },
  {
   "cell_type": "code",
   "execution_count": 2,
   "metadata": {
    "scrolled": true
   },
   "outputs": [
    {
     "data": {
      "text/html": [
       "<div>\n",
       "<style scoped>\n",
       "    .dataframe tbody tr th:only-of-type {\n",
       "        vertical-align: middle;\n",
       "    }\n",
       "\n",
       "    .dataframe tbody tr th {\n",
       "        vertical-align: top;\n",
       "    }\n",
       "\n",
       "    .dataframe thead th {\n",
       "        text-align: right;\n",
       "    }\n",
       "</style>\n",
       "<table border=\"1\" class=\"dataframe\">\n",
       "  <thead>\n",
       "    <tr style=\"text-align: right;\">\n",
       "      <th></th>\n",
       "      <th>id</th>\n",
       "      <th>gender</th>\n",
       "      <th>PPE</th>\n",
       "      <th>DFA</th>\n",
       "      <th>RPDE</th>\n",
       "      <th>numPulses</th>\n",
       "      <th>numPeriodsPulses</th>\n",
       "      <th>meanPeriodPulses</th>\n",
       "      <th>stdDevPeriodPulses</th>\n",
       "      <th>locPctJitter</th>\n",
       "      <th>...</th>\n",
       "      <th>tqwt_kurtosisValue_dec_28</th>\n",
       "      <th>tqwt_kurtosisValue_dec_29</th>\n",
       "      <th>tqwt_kurtosisValue_dec_30</th>\n",
       "      <th>tqwt_kurtosisValue_dec_31</th>\n",
       "      <th>tqwt_kurtosisValue_dec_32</th>\n",
       "      <th>tqwt_kurtosisValue_dec_33</th>\n",
       "      <th>tqwt_kurtosisValue_dec_34</th>\n",
       "      <th>tqwt_kurtosisValue_dec_35</th>\n",
       "      <th>tqwt_kurtosisValue_dec_36</th>\n",
       "      <th>class</th>\n",
       "    </tr>\n",
       "  </thead>\n",
       "  <tbody>\n",
       "    <tr>\n",
       "      <td>0</td>\n",
       "      <td>0.0</td>\n",
       "      <td>1.0</td>\n",
       "      <td>0.85247</td>\n",
       "      <td>0.71826</td>\n",
       "      <td>0.57227</td>\n",
       "      <td>240.0</td>\n",
       "      <td>239.0</td>\n",
       "      <td>0.008064</td>\n",
       "      <td>0.000087</td>\n",
       "      <td>0.00218</td>\n",
       "      <td>...</td>\n",
       "      <td>1.5620</td>\n",
       "      <td>2.6445</td>\n",
       "      <td>3.8686</td>\n",
       "      <td>4.2105</td>\n",
       "      <td>5.1221</td>\n",
       "      <td>4.4625</td>\n",
       "      <td>2.6202</td>\n",
       "      <td>3.0004</td>\n",
       "      <td>18.9405</td>\n",
       "      <td>1.0</td>\n",
       "    </tr>\n",
       "    <tr>\n",
       "      <td>1</td>\n",
       "      <td>0.0</td>\n",
       "      <td>1.0</td>\n",
       "      <td>0.76686</td>\n",
       "      <td>0.69481</td>\n",
       "      <td>0.53966</td>\n",
       "      <td>234.0</td>\n",
       "      <td>233.0</td>\n",
       "      <td>0.008258</td>\n",
       "      <td>0.000073</td>\n",
       "      <td>0.00195</td>\n",
       "      <td>...</td>\n",
       "      <td>1.5589</td>\n",
       "      <td>3.6107</td>\n",
       "      <td>23.5155</td>\n",
       "      <td>14.1962</td>\n",
       "      <td>11.0261</td>\n",
       "      <td>9.5082</td>\n",
       "      <td>6.5245</td>\n",
       "      <td>6.3431</td>\n",
       "      <td>45.1780</td>\n",
       "      <td>1.0</td>\n",
       "    </tr>\n",
       "    <tr>\n",
       "      <td>2</td>\n",
       "      <td>0.0</td>\n",
       "      <td>1.0</td>\n",
       "      <td>0.85083</td>\n",
       "      <td>0.67604</td>\n",
       "      <td>0.58982</td>\n",
       "      <td>232.0</td>\n",
       "      <td>231.0</td>\n",
       "      <td>0.008340</td>\n",
       "      <td>0.000060</td>\n",
       "      <td>0.00176</td>\n",
       "      <td>...</td>\n",
       "      <td>1.5643</td>\n",
       "      <td>2.3308</td>\n",
       "      <td>9.4959</td>\n",
       "      <td>10.7458</td>\n",
       "      <td>11.0177</td>\n",
       "      <td>4.8066</td>\n",
       "      <td>2.9199</td>\n",
       "      <td>3.1495</td>\n",
       "      <td>4.7666</td>\n",
       "      <td>1.0</td>\n",
       "    </tr>\n",
       "    <tr>\n",
       "      <td>3</td>\n",
       "      <td>1.0</td>\n",
       "      <td>0.0</td>\n",
       "      <td>0.41121</td>\n",
       "      <td>0.79672</td>\n",
       "      <td>0.59257</td>\n",
       "      <td>178.0</td>\n",
       "      <td>177.0</td>\n",
       "      <td>0.010858</td>\n",
       "      <td>0.000183</td>\n",
       "      <td>0.00419</td>\n",
       "      <td>...</td>\n",
       "      <td>3.7805</td>\n",
       "      <td>3.5664</td>\n",
       "      <td>5.2558</td>\n",
       "      <td>14.0403</td>\n",
       "      <td>4.2235</td>\n",
       "      <td>4.6857</td>\n",
       "      <td>4.8460</td>\n",
       "      <td>6.2650</td>\n",
       "      <td>4.0603</td>\n",
       "      <td>1.0</td>\n",
       "    </tr>\n",
       "    <tr>\n",
       "      <td>4</td>\n",
       "      <td>1.0</td>\n",
       "      <td>0.0</td>\n",
       "      <td>0.32790</td>\n",
       "      <td>0.79782</td>\n",
       "      <td>0.53028</td>\n",
       "      <td>236.0</td>\n",
       "      <td>235.0</td>\n",
       "      <td>0.008162</td>\n",
       "      <td>0.002669</td>\n",
       "      <td>0.00535</td>\n",
       "      <td>...</td>\n",
       "      <td>6.1727</td>\n",
       "      <td>5.8416</td>\n",
       "      <td>6.0805</td>\n",
       "      <td>5.7621</td>\n",
       "      <td>7.7817</td>\n",
       "      <td>11.6891</td>\n",
       "      <td>8.2103</td>\n",
       "      <td>5.0559</td>\n",
       "      <td>6.1164</td>\n",
       "      <td>1.0</td>\n",
       "    </tr>\n",
       "  </tbody>\n",
       "</table>\n",
       "<p>5 rows × 755 columns</p>\n",
       "</div>"
      ],
      "text/plain": [
       "0   id  gender      PPE      DFA     RPDE  numPulses  numPeriodsPulses  \\\n",
       "0  0.0     1.0  0.85247  0.71826  0.57227      240.0             239.0   \n",
       "1  0.0     1.0  0.76686  0.69481  0.53966      234.0             233.0   \n",
       "2  0.0     1.0  0.85083  0.67604  0.58982      232.0             231.0   \n",
       "3  1.0     0.0  0.41121  0.79672  0.59257      178.0             177.0   \n",
       "4  1.0     0.0  0.32790  0.79782  0.53028      236.0             235.0   \n",
       "\n",
       "0  meanPeriodPulses  stdDevPeriodPulses  locPctJitter  ...  \\\n",
       "0          0.008064            0.000087       0.00218  ...   \n",
       "1          0.008258            0.000073       0.00195  ...   \n",
       "2          0.008340            0.000060       0.00176  ...   \n",
       "3          0.010858            0.000183       0.00419  ...   \n",
       "4          0.008162            0.002669       0.00535  ...   \n",
       "\n",
       "0  tqwt_kurtosisValue_dec_28  tqwt_kurtosisValue_dec_29  \\\n",
       "0                     1.5620                     2.6445   \n",
       "1                     1.5589                     3.6107   \n",
       "2                     1.5643                     2.3308   \n",
       "3                     3.7805                     3.5664   \n",
       "4                     6.1727                     5.8416   \n",
       "\n",
       "0  tqwt_kurtosisValue_dec_30  tqwt_kurtosisValue_dec_31  \\\n",
       "0                     3.8686                     4.2105   \n",
       "1                    23.5155                    14.1962   \n",
       "2                     9.4959                    10.7458   \n",
       "3                     5.2558                    14.0403   \n",
       "4                     6.0805                     5.7621   \n",
       "\n",
       "0  tqwt_kurtosisValue_dec_32  tqwt_kurtosisValue_dec_33  \\\n",
       "0                     5.1221                     4.4625   \n",
       "1                    11.0261                     9.5082   \n",
       "2                    11.0177                     4.8066   \n",
       "3                     4.2235                     4.6857   \n",
       "4                     7.7817                    11.6891   \n",
       "\n",
       "0  tqwt_kurtosisValue_dec_34  tqwt_kurtosisValue_dec_35  \\\n",
       "0                     2.6202                     3.0004   \n",
       "1                     6.5245                     6.3431   \n",
       "2                     2.9199                     3.1495   \n",
       "3                     4.8460                     6.2650   \n",
       "4                     8.2103                     5.0559   \n",
       "\n",
       "0  tqwt_kurtosisValue_dec_36  class  \n",
       "0                    18.9405    1.0  \n",
       "1                    45.1780    1.0  \n",
       "2                     4.7666    1.0  \n",
       "3                     4.0603    1.0  \n",
       "4                     6.1164    1.0  \n",
       "\n",
       "[5 rows x 755 columns]"
      ]
     },
     "execution_count": 2,
     "metadata": {},
     "output_type": "execute_result"
    }
   ],
   "source": [
    "dataset = pd.read_csv(\"data.csv\")\n",
    "header = dataset.loc[0]\n",
    "dataset = dataset.drop([0])\n",
    "dataset.columns = header\n",
    "dataset.index = range(0, dataset.shape[0])\n",
    "for col in dataset.columns:\n",
    "    dataset[col] = dataset[col].astype(float)\n",
    "data = dataset\n",
    "data.head()"
   ]
  },
  {
   "cell_type": "markdown",
   "metadata": {},
   "source": [
    "## 2.1. Normalização dos Dados"
   ]
  },
  {
   "cell_type": "code",
   "execution_count": 3,
   "metadata": {},
   "outputs": [],
   "source": [
    "def normalizacaoZScore(x):\n",
    "    mean = np.mean(x, axis = 0)\n",
    "    xIntermed = x - mean\n",
    "    sd = np.std(x, axis = 0)\n",
    "    xFinal = xIntermed / sd\n",
    "    return xFinal"
   ]
  },
  {
   "cell_type": "code",
   "execution_count": 4,
   "metadata": {},
   "outputs": [],
   "source": [
    "x = normalizacaoZScore(data.values[:,1:-1])"
   ]
  },
  {
   "cell_type": "markdown",
   "metadata": {},
   "source": [
    "# 3. Redução da Dimensionalidade\n",
    "\n",
    "## 3.1. PCA"
   ]
  },
  {
   "cell_type": "code",
   "execution_count": 5,
   "metadata": {},
   "outputs": [],
   "source": [
    "def compute(x):\n",
    "    mean = np.mean(x, axis = 0)\n",
    "    cov = np.cov(np.transpose(x))\n",
    "    U, S, V = svd(cov)\n",
    "    S = np.diag(S)\n",
    "    M = U @ S @ V\n",
    "    P = np.transpose(U)\n",
    "    \n",
    "    return {'S': S, 'U': U, 'V': V, 'M': M, 'P': P}\n",
    "\n",
    "def transform(x, k):\n",
    "    pca_result = compute(x)\n",
    "    S = pca_result['S']\n",
    "    P = pca_result['P']\n",
    "    matrizTransform = []\n",
    "    autoValores = []\n",
    "    for i in range(0, S.shape[0]):\n",
    "        autoValores.append(S[i,i])\n",
    "    autoValOrdenados = np.sort(autoValores)\n",
    "    autoValOrdenados = autoValOrdenados[::-1]\n",
    "    for i in range(0, k):\n",
    "        for j in range (0, len(autoValores)):\n",
    "            if(autoValOrdenados[i]==autoValores[j]):\n",
    "                matrizTransform.append(P[j])\n",
    "                \n",
    "    return {'P': matrizTransform, 'Z':np.transpose(np.dot(matrizTransform, np.transpose(x)))}"
   ]
  },
  {
   "cell_type": "code",
   "execution_count": 6,
   "metadata": {},
   "outputs": [],
   "source": [
    "resultPCA = transform(x, 100)"
   ]
  },
  {
   "cell_type": "code",
   "execution_count": 7,
   "metadata": {},
   "outputs": [],
   "source": [
    "dataPCA = np.hstack((resultPCA['Z'], data.values[:,-1][:,None]))\n",
    "dataPCA = np.hstack((data.values[:,0][:,None], dataPCA))\n",
    "matrizPCA = resultPCA['P']"
   ]
  },
  {
   "cell_type": "code",
   "execution_count": 8,
   "metadata": {},
   "outputs": [],
   "source": [
    "dataPCA = pd.DataFrame(dataPCA)\n",
    "dataPCA = dataPCA.rename(columns={0: 'id'})"
   ]
  },
  {
   "cell_type": "markdown",
   "metadata": {},
   "source": [
    "## 3.2. Mod-SULQ"
   ]
  },
  {
   "cell_type": "code",
   "execution_count": 9,
   "metadata": {},
   "outputs": [],
   "source": [
    "def mod_sulq(X, epsilon, delta, k):\n",
    "    matrizX = np.transpose(X)\n",
    "    matrizA = 1/matrizX.shape[1] * np.dot(matrizX, np.transpose(matrizX))\n",
    "    fator1Beta = (matrizX.shape[0] + 1)/(matrizX.shape[1] * epsilon)\n",
    "    fator2Beta = (matrizX.shape[0]**2 + matrizX.shape[0])/(delta * 2 * sqrt(2 * pi))\n",
    "    fator3Beta = 1 / (sqrt(epsilon) * matrizX.shape[1])\n",
    "    beta = fator1Beta * sqrt(2 * np.log(fator2Beta)) + fator3Beta\n",
    "    matrizRuido = norm.rvs(loc = 0, scale = beta**2, size = (matrizX.shape[0], matrizX.shape[0]))\n",
    "    matrizX = matrizRuido + matrizA\n",
    "    matrizTransform = []\n",
    "    autoValores, autoVetores = la.eig(matrizX)\n",
    "    autoValores = autoValores.real\n",
    "    autoValOrdenados = np.sort(np.unique(autoValores))\n",
    "    autoValoresEscolhidos = []\n",
    "    for i in range(0, k):\n",
    "        for j in range (0, len(autoValores)):\n",
    "            if(autoValOrdenados[i]==autoValores[j] and autoValOrdenados[i] not in autoValoresEscolhidos):\n",
    "                autoValoresEscolhidos.append(autoValOrdenados[i])\n",
    "                matrizTransform.append(autoVetores[j])\n",
    "    return {'P': matrizTransform, 'Z':np.transpose(np.dot(matrizTransform, np.transpose(X)))}"
   ]
  },
  {
   "cell_type": "code",
   "execution_count": 10,
   "metadata": {},
   "outputs": [],
   "source": [
    "resultModSULQ = mod_sulq(x, 1, 1, 100)"
   ]
  },
  {
   "cell_type": "code",
   "execution_count": 11,
   "metadata": {},
   "outputs": [],
   "source": [
    "dataModSULQ = np.hstack((resultModSULQ['Z'], data.values[:,-1][:,None]))\n",
    "dataModSULQ = np.hstack((data.values[:,0][:,None], dataModSULQ))\n",
    "matrizModSULQ = resultModSULQ['P']"
   ]
  },
  {
   "cell_type": "code",
   "execution_count": 12,
   "metadata": {},
   "outputs": [],
   "source": [
    "dataModSULQ = pd.DataFrame(dataModSULQ)\n",
    "dataModSULQ = dataModSULQ.rename(columns={0: 'id'})\n",
    "for col in dataModSULQ.columns:\n",
    "    dataModSULQ[col] = dataModSULQ[col].astype(float)"
   ]
  },
  {
   "cell_type": "markdown",
   "metadata": {},
   "source": [
    "# 4. Avaliação de Métodos"
   ]
  },
  {
   "cell_type": "code",
   "execution_count": 13,
   "metadata": {},
   "outputs": [],
   "source": [
    "def acc(y_test, results):\n",
    "    tot = [1 for x,z in zip(y_test,results) if x == z]\n",
    "    return (np.sum(np.array(tot))/len(y_test))*100"
   ]
  },
  {
   "cell_type": "code",
   "execution_count": 14,
   "metadata": {},
   "outputs": [],
   "source": [
    "ids = dataPCA['id'].unique()\n",
    "trainTestPCA, trainTestModSULQ = train_testSplit(ids, dataPCA, dataModSULQ, 0.25)"
   ]
  },
  {
   "cell_type": "markdown",
   "metadata": {},
   "source": [
    "## 4.1. Abordagem Não-Privada"
   ]
  },
  {
   "cell_type": "code",
   "execution_count": 15,
   "metadata": {},
   "outputs": [],
   "source": [
    "x_train, x_test, y_train, y_test = trainTestPCA[0], trainTestPCA[1], trainTestPCA[2], trainTestPCA[3]\n",
    "yTestNpriv = y_test"
   ]
  },
  {
   "cell_type": "markdown",
   "metadata": {},
   "source": [
    "### 4.1.1. Regressão Logística"
   ]
  },
  {
   "cell_type": "code",
   "execution_count": 16,
   "metadata": {},
   "outputs": [
    {
     "name": "stdout",
     "output_type": "stream",
     "text": [
      "[Regressão Logística] Selecionando hiperparâmetros...\n",
      "[Regressão Logística] Treinando modelo...\n",
      "[Regressão Logística] Hiperparâmetros escolhidos para Regressão Logística: {'n_epochs': 1000, 'alpha': 0.1, 'lambda': 0.01}\n",
      "[Regressão Logística] Testando modelo...\n",
      "[Regressão Logística] Score\n"
     ]
    },
    {
     "data": {
      "text/plain": [
       "67.72486772486772"
      ]
     },
     "execution_count": 16,
     "metadata": {},
     "output_type": "execute_result"
    }
   ],
   "source": [
    "w, erroRL = fitRL(x_train, y_train)\n",
    "y_predRL, y_prevRL = predictRL(w, x_test)\n",
    "print(\"[Regressão Logística] Score\")\n",
    "acc(y_test, y_predRL)"
   ]
  },
  {
   "cell_type": "code",
   "execution_count": 17,
   "metadata": {},
   "outputs": [
    {
     "name": "stdout",
     "output_type": "stream",
     "text": [
      "              precision    recall  f1-score   support\n",
      "\n",
      "         0.0       0.42      0.73      0.53        48\n",
      "         1.0       0.88      0.66      0.75       141\n",
      "\n",
      "    accuracy                           0.68       189\n",
      "   macro avg       0.65      0.69      0.64       189\n",
      "weighted avg       0.76      0.68      0.70       189\n",
      "\n"
     ]
    }
   ],
   "source": [
    "print(classification_report(y_test, y_predRL))"
   ]
  },
  {
   "cell_type": "code",
   "execution_count": 18,
   "metadata": {},
   "outputs": [
    {
     "data": {
      "image/png": "[encoded data removed]",
      "text/plain": [
       "<Figure size 432x288 with 1 Axes>"
      ]
     },
     "metadata": {
      "needs_background": "light"
     },
     "output_type": "display_data"
    }
   ],
   "source": [
    "cm = confusion_matrix(y_test, y_predRL)\n",
    "\n",
    "fig, ax = plot_confusion_matrix(conf_mat=cm)\n",
    "plt.savefig('graficos/RegLog.png')\n",
    "plt.show()"
   ]
  },
  {
   "cell_type": "markdown",
   "metadata": {},
   "source": [
    "### 4.1.2. Análise Discriminante Gaussiano"
   ]
  },
  {
   "cell_type": "code",
   "execution_count": 19,
   "metadata": {},
   "outputs": [
    {
     "name": "stdout",
     "output_type": "stream",
     "text": [
      "[Análise de Discriminante Gaussiano] Treinando modelo...\n",
      "[Análise de Discriminante Gaussiano] Testando modelo...\n",
      "[Análise de Discriminante Gaussiano] Score\n"
     ]
    },
    {
     "data": {
      "text/plain": [
       "76.19047619047619"
      ]
     },
     "execution_count": 19,
     "metadata": {},
     "output_type": "execute_result"
    }
   ],
   "source": [
    "y_predAGD, y_prevAGD = predictAGD(fitAGD(x_train, y_train), x_test)\n",
    "print(\"[Análise de Discriminante Gaussiano] Score\")\n",
    "acc(y_test, y_predAGD)"
   ]
  },
  {
   "cell_type": "code",
   "execution_count": 20,
   "metadata": {},
   "outputs": [
    {
     "name": "stdout",
     "output_type": "stream",
     "text": [
      "              precision    recall  f1-score   support\n",
      "\n",
      "         0.0       0.62      0.17      0.26        48\n",
      "         1.0       0.77      0.96      0.86       141\n",
      "\n",
      "    accuracy                           0.76       189\n",
      "   macro avg       0.69      0.57      0.56       189\n",
      "weighted avg       0.73      0.76      0.71       189\n",
      "\n"
     ]
    }
   ],
   "source": [
    "print(classification_report(y_test, y_predAGD))"
   ]
  },
  {
   "cell_type": "code",
   "execution_count": 21,
   "metadata": {},
   "outputs": [
    {
     "data": {
      "image/png": "[encoded data removed]",
      "text/plain": [
       "<Figure size 432x288 with 1 Axes>"
      ]
     },
     "metadata": {
      "needs_background": "light"
     },
     "output_type": "display_data"
    }
   ],
   "source": [
    "cm = confusion_matrix(y_test, y_predAGD)\n",
    "\n",
    "fig, ax = plot_confusion_matrix(conf_mat=cm)\n",
    "plt.savefig('graficos/AGD.png')\n",
    "plt.show()"
   ]
  },
  {
   "cell_type": "markdown",
   "metadata": {},
   "source": [
    "### 4.1.3. Árvore de Decisão"
   ]
  },
  {
   "cell_type": "code",
   "execution_count": 22,
   "metadata": {},
   "outputs": [
    {
     "name": "stdout",
     "output_type": "stream",
     "text": [
      "[Árvore de Decisão] Selecionando hiperparâmetros...\n",
      "[Árvore de Decisão] Treinando modelo...\n",
      "[Árvore de Decisão] Hiperparâmetros escolhidos para Árvore de Decisão:  {'criterion': 'entropy', 'max_depth': 1}\n",
      "[Árvore de Decisão] Testando modelo...\n",
      "[Árvore de Decisão] Score\n"
     ]
    },
    {
     "data": {
      "text/plain": [
       "75.66137566137566"
      ]
     },
     "execution_count": 22,
     "metadata": {},
     "output_type": "execute_result"
    }
   ],
   "source": [
    "y_predAD, y_prevAD = predictAD(fitAD(x_train, y_train), x_train, y_train, x_test)\n",
    "print(\"[Árvore de Decisão] Score\")\n",
    "acc(y_test, y_predAD)"
   ]
  },
  {
   "cell_type": "code",
   "execution_count": 23,
   "metadata": {},
   "outputs": [
    {
     "name": "stdout",
     "output_type": "stream",
     "text": [
      "              precision    recall  f1-score   support\n",
      "\n",
      "         0.0       0.53      0.35      0.42        48\n",
      "         1.0       0.80      0.89      0.85       141\n",
      "\n",
      "    accuracy                           0.76       189\n",
      "   macro avg       0.67      0.62      0.64       189\n",
      "weighted avg       0.73      0.76      0.74       189\n",
      "\n"
     ]
    }
   ],
   "source": [
    "print(classification_report(y_test, y_predAD))"
   ]
  },
  {
   "cell_type": "code",
   "execution_count": 24,
   "metadata": {},
   "outputs": [
    {
     "data": {
      "image/png": "[encoded data removed]",
      "text/plain": [
       "<Figure size 432x288 with 1 Axes>"
      ]
     },
     "metadata": {
      "needs_background": "light"
     },
     "output_type": "display_data"
    }
   ],
   "source": [
    "cm = confusion_matrix(y_test, y_predAD)\n",
    "\n",
    "fig, ax = plot_confusion_matrix(conf_mat=cm)\n",
    "plt.savefig('graficos/AD.png')\n",
    "plt.show()"
   ]
  },
  {
   "cell_type": "markdown",
   "metadata": {},
   "source": [
    "### 4.1.4. SVM"
   ]
  },
  {
   "cell_type": "code",
   "execution_count": 25,
   "metadata": {},
   "outputs": [
    {
     "name": "stdout",
     "output_type": "stream",
     "text": [
      "[SVM] Selecionando hiperparâmetros...\n",
      "[SVM] Treinando modelo...\n",
      "[SVM] Hiperparâmetros escolhidos para SVM:  {'C': 0.125, 'degree': 3, 'kernel': 'poly'}\n",
      "[SVM] Testando modelo...\n",
      "[SVM] Score\n"
     ]
    },
    {
     "data": {
      "text/plain": [
       "79.8941798941799"
      ]
     },
     "execution_count": 25,
     "metadata": {},
     "output_type": "execute_result"
    }
   ],
   "source": [
    "y_predSVM, y_prevSVM = predictSVM(fitSVM(x_train, y_train), x_train, y_train, x_test)\n",
    "print(\"[SVM] Score\")\n",
    "acc(y_test,y_predSVM)"
   ]
  },
  {
   "cell_type": "code",
   "execution_count": 26,
   "metadata": {},
   "outputs": [
    {
     "name": "stdout",
     "output_type": "stream",
     "text": [
      "              precision    recall  f1-score   support\n",
      "\n",
      "         0.0       0.69      0.38      0.49        48\n",
      "         1.0       0.82      0.94      0.87       141\n",
      "\n",
      "    accuracy                           0.80       189\n",
      "   macro avg       0.75      0.66      0.68       189\n",
      "weighted avg       0.78      0.80      0.78       189\n",
      "\n"
     ]
    }
   ],
   "source": [
    "print(classification_report(y_test, y_predSVM))"
   ]
  },
  {
   "cell_type": "code",
   "execution_count": 27,
   "metadata": {},
   "outputs": [
    {
     "data": {
      "image/png": "[encoded data removed]",
      "text/plain": [
       "<Figure size 432x288 with 1 Axes>"
      ]
     },
     "metadata": {
      "needs_background": "light"
     },
     "output_type": "display_data"
    }
   ],
   "source": [
    "cm = confusion_matrix(y_test, y_predSVM)\n",
    "\n",
    "fig, ax = plot_confusion_matrix(conf_mat=cm)\n",
    "plt.savefig('graficos/SVM.png')\n",
    "plt.show()"
   ]
  },
  {
   "cell_type": "markdown",
   "metadata": {},
   "source": [
    "### 4.1.5. Random Forest"
   ]
  },
  {
   "cell_type": "code",
   "execution_count": 28,
   "metadata": {},
   "outputs": [
    {
     "name": "stdout",
     "output_type": "stream",
     "text": [
      "[Random Forest] Selecionando hiperparâmetros...\n",
      "[Random Forest] Treinando modelo...\n",
      "[Random Forest] Hiperparâmetros escolhidos para Radom Forest:  {'criterion': 'gini', 'max_depth': 9, 'n_estimators': 146}\n",
      "[Random Forest] Testando modelo...\n",
      "[Random Forest] Score\n"
     ]
    },
    {
     "data": {
      "text/plain": [
       "79.8941798941799"
      ]
     },
     "execution_count": 28,
     "metadata": {},
     "output_type": "execute_result"
    }
   ],
   "source": [
    "y_predRF, y_prevRF = predictRF(fitRF(x_train, y_train), x_train, y_train, x_test)\n",
    "print(\"[Random Forest] Score\")\n",
    "acc(y_test, y_predRF)"
   ]
  },
  {
   "cell_type": "code",
   "execution_count": 29,
   "metadata": {},
   "outputs": [
    {
     "name": "stdout",
     "output_type": "stream",
     "text": [
      "              precision    recall  f1-score   support\n",
      "\n",
      "         0.0       0.81      0.27      0.41        48\n",
      "         1.0       0.80      0.98      0.88       141\n",
      "\n",
      "    accuracy                           0.80       189\n",
      "   macro avg       0.81      0.62      0.64       189\n",
      "weighted avg       0.80      0.80      0.76       189\n",
      "\n"
     ]
    }
   ],
   "source": [
    "print(classification_report(y_test, y_predRF))"
   ]
  },
  {
   "cell_type": "code",
   "execution_count": 30,
   "metadata": {},
   "outputs": [
    {
     "data": {
      "image/png": "[encoded data removed]",
      "text/plain": [
       "<Figure size 432x288 with 1 Axes>"
      ]
     },
     "metadata": {
      "needs_background": "light"
     },
     "output_type": "display_data"
    }
   ],
   "source": [
    "cm = confusion_matrix(y_test, y_predRF)\n",
    "\n",
    "fig, ax = plot_confusion_matrix(conf_mat=cm)\n",
    "plt.savefig('graficos/RF.png')\n",
    "plt.show()"
   ]
  },
  {
   "cell_type": "markdown",
   "metadata": {},
   "source": [
    "### 4.1.6. KNN"
   ]
  },
  {
   "cell_type": "code",
   "execution_count": 31,
   "metadata": {},
   "outputs": [
    {
     "name": "stdout",
     "output_type": "stream",
     "text": [
      "[KNN] Treinando modelo...\n",
      "[KNN] Hiperparâmetros escolhidos para KNN:  {'n_neighbors': 9}\n",
      "[KNN] Testando modelo...\n",
      "[KNN] Score\n",
      "79.36507936507937\n"
     ]
    }
   ],
   "source": [
    "y_predKNN = predictKNN(x_train, y_train, x_test, distance_euclidian)\n",
    "print(\"[KNN] Score\")\n",
    "print(acc(y_test, y_predKNN))"
   ]
  },
  {
   "cell_type": "code",
   "execution_count": 32,
   "metadata": {},
   "outputs": [
    {
     "name": "stdout",
     "output_type": "stream",
     "text": [
      "              precision    recall  f1-score   support\n",
      "\n",
      "         0.0       0.74      0.29      0.42        48\n",
      "         1.0       0.80      0.96      0.87       141\n",
      "\n",
      "    accuracy                           0.79       189\n",
      "   macro avg       0.77      0.63      0.65       189\n",
      "weighted avg       0.78      0.79      0.76       189\n",
      "\n"
     ]
    }
   ],
   "source": [
    "print(classification_report(y_test, y_predKNN))"
   ]
  },
  {
   "cell_type": "code",
   "execution_count": 33,
   "metadata": {},
   "outputs": [
    {
     "data": {
      "image/png": "[encoded data removed]",
      "text/plain": [
       "<Figure size 432x288 with 1 Axes>"
      ]
     },
     "metadata": {
      "needs_background": "light"
     },
     "output_type": "display_data"
    }
   ],
   "source": [
    "cm = confusion_matrix(y_test, y_predKNN)\n",
    "\n",
    "fig, ax = plot_confusion_matrix(conf_mat=cm)\n",
    "plt.savefig('graficos/KNN.png')\n",
    "plt.show()"
   ]
  },
  {
   "cell_type": "markdown",
   "metadata": {},
   "source": [
    "### 4.1.7. Processo Gaussiano"
   ]
  },
  {
   "cell_type": "code",
   "execution_count": 34,
   "metadata": {},
   "outputs": [
    {
     "name": "stdout",
     "output_type": "stream",
     "text": [
      "[Processo Gaussiano] Selecionando kernel...\n",
      "[Processo Gaussiano] Treinando modelo...\n",
      "[Processo Gaussiano] Kernel escolhidos para Processo Gaussiano:  {'kernel': RationalQuadratic(alpha=1.5, length_scale=1)}\n",
      "[Processo Gaussiano] Testando modelo...\n",
      "[Processo Gaussiano] Score\n",
      "81.48148148148148\n"
     ]
    }
   ],
   "source": [
    "y_predGP, y_prevGP = predictGP(fitGP(x_train, y_train), x_train, y_train, x_test)\n",
    "print(\"[Processo Gaussiano] Score\")\n",
    "print(acc(y_test, y_predGP))"
   ]
  },
  {
   "cell_type": "code",
   "execution_count": 35,
   "metadata": {},
   "outputs": [
    {
     "name": "stdout",
     "output_type": "stream",
     "text": [
      "              precision    recall  f1-score   support\n",
      "\n",
      "         0.0       0.84      0.33      0.48        48\n",
      "         1.0       0.81      0.98      0.89       141\n",
      "\n",
      "    accuracy                           0.81       189\n",
      "   macro avg       0.83      0.66      0.68       189\n",
      "weighted avg       0.82      0.81      0.78       189\n",
      "\n"
     ]
    }
   ],
   "source": [
    "print(classification_report(y_test, y_predGP))"
   ]
  },
  {
   "cell_type": "code",
   "execution_count": 36,
   "metadata": {},
   "outputs": [
    {
     "data": {
      "image/png": "[encoded data removed]",
      "text/plain": [
       "<Figure size 432x288 with 1 Axes>"
      ]
     },
     "metadata": {
      "needs_background": "light"
     },
     "output_type": "display_data"
    }
   ],
   "source": [
    "cm = confusion_matrix(y_test, y_predGP)\n",
    "\n",
    "fig, ax = plot_confusion_matrix(conf_mat=cm)\n",
    "plt.savefig('graficos/GP.png')\n",
    "plt.show()"
   ]
  },
  {
   "cell_type": "markdown",
   "metadata": {},
   "source": [
    "## 4.2. Abordagem Privada"
   ]
  },
  {
   "cell_type": "code",
   "execution_count": 37,
   "metadata": {},
   "outputs": [],
   "source": [
    "x_train, x_test, y_train, y_test = trainTestModSULQ[0], trainTestModSULQ[1], trainTestModSULQ[2], trainTestModSULQ[3]"
   ]
  },
  {
   "cell_type": "markdown",
   "metadata": {},
   "source": [
    "### 4.2.1. Regressão Logística"
   ]
  },
  {
   "cell_type": "code",
   "execution_count": 38,
   "metadata": {
    "scrolled": false
   },
   "outputs": [
    {
     "name": "stdout",
     "output_type": "stream",
     "text": [
      "[Regressão Logística] Selecionando hiperparâmetros...\n",
      "[Regressão Logística] Treinando modelo...\n",
      "[Regressão Logística] Hiperparâmetros escolhidos para Regressão Logística: {'n_epochs': 10000, 'alpha': 0.1, 'lambda': 0.01}\n",
      "[Regressão Logística] Testando modelo...\n",
      "[Regressão Logística] Score\n"
     ]
    },
    {
     "data": {
      "text/plain": [
       "67.1957671957672"
      ]
     },
     "execution_count": 38,
     "metadata": {},
     "output_type": "execute_result"
    }
   ],
   "source": [
    "w, erroRLP = fitRL(x_train, y_train)\n",
    "y_predRLP, y_prevRLP = predictRL(w, x_test)\n",
    "print(\"[Regressão Logística] Score\")\n",
    "acc(y_test, y_predRLP)"
   ]
  },
  {
   "cell_type": "code",
   "execution_count": 39,
   "metadata": {},
   "outputs": [
    {
     "name": "stdout",
     "output_type": "stream",
     "text": [
      "              precision    recall  f1-score   support\n",
      "\n",
      "         0.0       0.41      0.71      0.52        48\n",
      "         1.0       0.87      0.66      0.75       141\n",
      "\n",
      "    accuracy                           0.67       189\n",
      "   macro avg       0.64      0.68      0.64       189\n",
      "weighted avg       0.75      0.67      0.69       189\n",
      "\n"
     ]
    }
   ],
   "source": [
    "print(classification_report(y_test, y_predRLP))"
   ]
  },
  {
   "cell_type": "code",
   "execution_count": 40,
   "metadata": {},
   "outputs": [
    {
     "data": {
      "image/png": "[encoded data removed]",
      "text/plain": [
       "<Figure size 432x288 with 1 Axes>"
      ]
     },
     "metadata": {
      "needs_background": "light"
     },
     "output_type": "display_data"
    }
   ],
   "source": [
    "cm = confusion_matrix(y_test, y_predRLP)\n",
    "\n",
    "fig, ax = plot_confusion_matrix(conf_mat=cm)\n",
    "plt.savefig('graficos/RegLogPriv.png')\n",
    "plt.show()"
   ]
  },
  {
   "cell_type": "markdown",
   "metadata": {},
   "source": [
    "### 4.2.2. Análise de Discriminante Gaussiano"
   ]
  },
  {
   "cell_type": "code",
   "execution_count": 41,
   "metadata": {},
   "outputs": [
    {
     "name": "stdout",
     "output_type": "stream",
     "text": [
      "[Análise de Discriminante Gaussiano] Treinando modelo...\n",
      "[Análise de Discriminante Gaussiano] Testando modelo...\n",
      "[Análise de Discriminante Gaussiano] Score\n"
     ]
    },
    {
     "data": {
      "text/plain": [
       "75.13227513227513"
      ]
     },
     "execution_count": 41,
     "metadata": {},
     "output_type": "execute_result"
    }
   ],
   "source": [
    "y_predAGDP, y_prevAGDP = predictAGD(fitAGD(x_train, y_train), x_test)\n",
    "print(\"[Análise de Discriminante Gaussiano] Score\")\n",
    "acc(y_test, y_predAGDP)"
   ]
  },
  {
   "cell_type": "code",
   "execution_count": 42,
   "metadata": {},
   "outputs": [
    {
     "name": "stdout",
     "output_type": "stream",
     "text": [
      "              precision    recall  f1-score   support\n",
      "\n",
      "         0.0       0.57      0.08      0.15        48\n",
      "         1.0       0.76      0.98      0.85       141\n",
      "\n",
      "    accuracy                           0.75       189\n",
      "   macro avg       0.66      0.53      0.50       189\n",
      "weighted avg       0.71      0.75      0.67       189\n",
      "\n"
     ]
    }
   ],
   "source": [
    "print(classification_report(y_test, y_predAGDP))"
   ]
  },
  {
   "cell_type": "code",
   "execution_count": 43,
   "metadata": {},
   "outputs": [
    {
     "data": {
      "image/png": "[encoded data removed]",
      "text/plain": [
       "<Figure size 432x288 with 1 Axes>"
      ]
     },
     "metadata": {
      "needs_background": "light"
     },
     "output_type": "display_data"
    }
   ],
   "source": [
    "cm = confusion_matrix(y_test, y_predAGDP)\n",
    "\n",
    "fig, ax = plot_confusion_matrix(conf_mat=cm)\n",
    "plt.savefig('graficos/AGDPriv.png')\n",
    "plt.show()"
   ]
  },
  {
   "cell_type": "markdown",
   "metadata": {},
   "source": [
    "### 4.2.3. Árvore de Decisão"
   ]
  },
  {
   "cell_type": "code",
   "execution_count": 44,
   "metadata": {},
   "outputs": [
    {
     "name": "stdout",
     "output_type": "stream",
     "text": [
      "[Árvore de Decisão] Selecionando hiperparâmetros...\n",
      "[Árvore de Decisão] Treinando modelo...\n",
      "[Árvore de Decisão] Hiperparâmetros escolhidos para Árvore de Decisão:  {'criterion': 'gini', 'max_depth': 5}\n",
      "[Árvore de Decisão] Testando modelo...\n",
      "[Árvore de Decisão] Score\n"
     ]
    },
    {
     "data": {
      "text/plain": [
       "74.60317460317461"
      ]
     },
     "execution_count": 44,
     "metadata": {},
     "output_type": "execute_result"
    }
   ],
   "source": [
    "y_predADP, y_prevADP = predictAD(fitAD(x_train, y_train), x_train, y_train, x_test)\n",
    "print(\"[Árvore de Decisão] Score\")\n",
    "acc(y_test, y_predADP)"
   ]
  },
  {
   "cell_type": "code",
   "execution_count": 45,
   "metadata": {},
   "outputs": [
    {
     "name": "stdout",
     "output_type": "stream",
     "text": [
      "              precision    recall  f1-score   support\n",
      "\n",
      "         0.0       0.50      0.42      0.45        48\n",
      "         1.0       0.81      0.86      0.83       141\n",
      "\n",
      "    accuracy                           0.75       189\n",
      "   macro avg       0.66      0.64      0.64       189\n",
      "weighted avg       0.73      0.75      0.74       189\n",
      "\n"
     ]
    }
   ],
   "source": [
    "print(classification_report(y_test, y_predADP))"
   ]
  },
  {
   "cell_type": "code",
   "execution_count": 46,
   "metadata": {},
   "outputs": [
    {
     "data": {
      "image/png": "[encoded data removed]",
      "text/plain": [
       "<Figure size 432x288 with 1 Axes>"
      ]
     },
     "metadata": {
      "needs_background": "light"
     },
     "output_type": "display_data"
    }
   ],
   "source": [
    "cm = confusion_matrix(y_test, y_predADP)\n",
    "\n",
    "fig, ax = plot_confusion_matrix(conf_mat=cm)\n",
    "plt.savefig('graficos/ADPriv.png')\n",
    "plt.show()"
   ]
  },
  {
   "cell_type": "markdown",
   "metadata": {},
   "source": [
    "### 4.2.4. SVM"
   ]
  },
  {
   "cell_type": "code",
   "execution_count": 47,
   "metadata": {},
   "outputs": [
    {
     "name": "stdout",
     "output_type": "stream",
     "text": [
      "[SVM] Selecionando hiperparâmetros...\n",
      "[SVM] Treinando modelo...\n",
      "[SVM] Hiperparâmetros escolhidos para SVM:  {'C': 4.0, 'degree': 3, 'kernel': 'poly'}\n",
      "[SVM] Testando modelo...\n",
      "[SVM] Score\n"
     ]
    },
    {
     "data": {
      "text/plain": [
       "79.36507936507937"
      ]
     },
     "execution_count": 47,
     "metadata": {},
     "output_type": "execute_result"
    }
   ],
   "source": [
    "y_predSVMP, y_prevSVMP = predictSVM(fitSVM(x_train, y_train), x_train, y_train, x_test)\n",
    "print(\"[SVM] Score\")\n",
    "acc(y_test,y_predSVMP)"
   ]
  },
  {
   "cell_type": "code",
   "execution_count": 48,
   "metadata": {},
   "outputs": [
    {
     "name": "stdout",
     "output_type": "stream",
     "text": [
      "              precision    recall  f1-score   support\n",
      "\n",
      "         0.0       0.76      0.27      0.40        48\n",
      "         1.0       0.80      0.97      0.88       141\n",
      "\n",
      "    accuracy                           0.79       189\n",
      "   macro avg       0.78      0.62      0.64       189\n",
      "weighted avg       0.79      0.79      0.75       189\n",
      "\n"
     ]
    }
   ],
   "source": [
    "print(classification_report(y_test, y_predSVMP))"
   ]
  },
  {
   "cell_type": "code",
   "execution_count": 49,
   "metadata": {},
   "outputs": [
    {
     "data": {
      "image/png": "[encoded data removed]",
      "text/plain": [
       "<Figure size 432x288 with 1 Axes>"
      ]
     },
     "metadata": {
      "needs_background": "light"
     },
     "output_type": "display_data"
    }
   ],
   "source": [
    "cm = confusion_matrix(y_test, y_predSVMP)\n",
    "\n",
    "fig, ax = plot_confusion_matrix(conf_mat=cm)\n",
    "plt.savefig('graficos/SVMPriv.png')\n",
    "plt.show()"
   ]
  },
  {
   "cell_type": "markdown",
   "metadata": {},
   "source": [
    "### 4.2.5. Random Forest"
   ]
  },
  {
   "cell_type": "code",
   "execution_count": 50,
   "metadata": {},
   "outputs": [
    {
     "name": "stdout",
     "output_type": "stream",
     "text": [
      "[Random Forest] Selecionando hiperparâmetros...\n",
      "[Random Forest] Treinando modelo...\n",
      "[Random Forest] Hiperparâmetros escolhidos para Radom Forest:  {'criterion': 'gini', 'max_depth': 8, 'n_estimators': 137}\n",
      "[Random Forest] Testando modelo...\n",
      "[Random Forest] Score\n"
     ]
    },
    {
     "data": {
      "text/plain": [
       "81.48148148148148"
      ]
     },
     "execution_count": 50,
     "metadata": {},
     "output_type": "execute_result"
    }
   ],
   "source": [
    "y_predRFP, y_prevRFP = predictRF(fitRF(x_train, y_train), x_train, y_train, x_test)\n",
    "print(\"[Random Forest] Score\")\n",
    "acc(y_test, y_predRFP)"
   ]
  },
  {
   "cell_type": "code",
   "execution_count": 51,
   "metadata": {},
   "outputs": [
    {
     "name": "stdout",
     "output_type": "stream",
     "text": [
      "              precision    recall  f1-score   support\n",
      "\n",
      "         0.0       0.81      0.35      0.49        48\n",
      "         1.0       0.82      0.97      0.89       141\n",
      "\n",
      "    accuracy                           0.81       189\n",
      "   macro avg       0.81      0.66      0.69       189\n",
      "weighted avg       0.81      0.81      0.79       189\n",
      "\n"
     ]
    }
   ],
   "source": [
    "print(classification_report(y_test, y_predRFP))"
   ]
  },
  {
   "cell_type": "code",
   "execution_count": 52,
   "metadata": {},
   "outputs": [
    {
     "data": {
      "image/png": "[encoded data removed]",
      "text/plain": [
       "<Figure size 432x288 with 1 Axes>"
      ]
     },
     "metadata": {
      "needs_background": "light"
     },
     "output_type": "display_data"
    }
   ],
   "source": [
    "cm = confusion_matrix(y_test, y_predRFP)\n",
    "\n",
    "fig, ax = plot_confusion_matrix(conf_mat=cm)\n",
    "plt.savefig('graficos/RFPriv.png')\n",
    "plt.show()"
   ]
  },
  {
   "cell_type": "markdown",
   "metadata": {},
   "source": [
    "### 4.2.6. KNN"
   ]
  },
  {
   "cell_type": "code",
   "execution_count": 53,
   "metadata": {},
   "outputs": [
    {
     "name": "stdout",
     "output_type": "stream",
     "text": [
      "[KNN] Treinando modelo...\n",
      "[KNN] Hiperparâmetros escolhidos para KNN:  {'n_neighbors': 5}\n",
      "[KNN] Testando modelo...\n",
      "[KNN] Score\n",
      "78.83597883597884\n"
     ]
    }
   ],
   "source": [
    "y_predKNNP = predictKNN(x_train, y_train, x_test, distance_euclidian)\n",
    "print(\"[KNN] Score\")\n",
    "print(acc(y_test, y_predKNNP))"
   ]
  },
  {
   "cell_type": "code",
   "execution_count": 54,
   "metadata": {},
   "outputs": [
    {
     "name": "stdout",
     "output_type": "stream",
     "text": [
      "              precision    recall  f1-score   support\n",
      "\n",
      "         0.0       0.70      0.29      0.41        48\n",
      "         1.0       0.80      0.96      0.87       141\n",
      "\n",
      "    accuracy                           0.79       189\n",
      "   macro avg       0.75      0.62      0.64       189\n",
      "weighted avg       0.77      0.79      0.75       189\n",
      "\n"
     ]
    }
   ],
   "source": [
    "print(classification_report(y_test, y_predKNNP))"
   ]
  },
  {
   "cell_type": "code",
   "execution_count": 55,
   "metadata": {},
   "outputs": [
    {
     "data": {
      "image/png": "[encoded data removed]",
      "text/plain": [
       "<Figure size 432x288 with 1 Axes>"
      ]
     },
     "metadata": {
      "needs_background": "light"
     },
     "output_type": "display_data"
    }
   ],
   "source": [
    "cm = confusion_matrix(y_test, y_predKNNP)\n",
    "\n",
    "fig, ax = plot_confusion_matrix(conf_mat=cm)\n",
    "plt.savefig('graficos/KNNPriv.png')\n",
    "plt.show()"
   ]
  },
  {
   "cell_type": "markdown",
   "metadata": {},
   "source": [
    "### 4.2.7. Processo Gaussiano"
   ]
  },
  {
   "cell_type": "code",
   "execution_count": 56,
   "metadata": {},
   "outputs": [
    {
     "name": "stdout",
     "output_type": "stream",
     "text": [
      "[Processo Gaussiano] Selecionando kernel...\n",
      "[Processo Gaussiano] Treinando modelo...\n",
      "[Processo Gaussiano] Kernel escolhidos para Processo Gaussiano:  {'kernel': Matern(length_scale=1, nu=1.5)}\n",
      "[Processo Gaussiano] Testando modelo...\n",
      "[Processo Gaussiano] Score\n",
      "78.83597883597884\n"
     ]
    }
   ],
   "source": [
    "y_predGPP, y_prevGPP = predictGP(fitGP(x_train, y_train), x_train, y_train, x_test)\n",
    "print(\"[Processo Gaussiano] Score\")\n",
    "print(acc(y_test, y_predGPP))"
   ]
  },
  {
   "cell_type": "code",
   "execution_count": 57,
   "metadata": {},
   "outputs": [
    {
     "name": "stdout",
     "output_type": "stream",
     "text": [
      "              precision    recall  f1-score   support\n",
      "\n",
      "         0.0       0.75      0.25      0.38        48\n",
      "         1.0       0.79      0.97      0.87       141\n",
      "\n",
      "    accuracy                           0.79       189\n",
      "   macro avg       0.77      0.61      0.62       189\n",
      "weighted avg       0.78      0.79      0.75       189\n",
      "\n"
     ]
    }
   ],
   "source": [
    "print(classification_report(y_test, y_predGPP))"
   ]
  },
  {
   "cell_type": "code",
   "execution_count": 58,
   "metadata": {},
   "outputs": [
    {
     "data": {
      "image/png": "[encoded data removed]",
      "text/plain": [
       "<Figure size 432x288 with 1 Axes>"
      ]
     },
     "metadata": {
      "needs_background": "light"
     },
     "output_type": "display_data"
    }
   ],
   "source": [
    "cm = confusion_matrix(y_test, y_predGPP)\n",
    "\n",
    "fig, ax = plot_confusion_matrix(conf_mat=cm)\n",
    "plt.savefig('graficos/GPPriv.png')\n",
    "plt.show()"
   ]
  },
  {
   "cell_type": "markdown",
   "metadata": {},
   "source": [
    "# 5. Gráficos Comparativos"
   ]
  },
  {
   "cell_type": "markdown",
   "metadata": {},
   "source": [
    "## 5.1. Comparativos dos Gráficos de Erro da Regressão Logística para as duas abordagens"
   ]
  },
  {
   "cell_type": "code",
   "execution_count": 62,
   "metadata": {},
   "outputs": [
    {
     "data": {
      "image/png": "[encoded data removed]",
      "text/plain": [
       "<Figure size 432x288 with 1 Axes>"
      ]
     },
     "metadata": {
      "needs_background": "light"
     },
     "output_type": "display_data"
    }
   ],
   "source": [
    "plt.plot(range(0, len(erroRL)), erroRL, label='Erro da Regressão Logística s/ Privacidade')\n",
    "plt.plot(range(0, len(erroRLP)), erroRLP, label = 'Erro da Regressão Logística c/ Privacidade')\n",
    "plt.legend()\n",
    "plt.xlim(0,1000)\n",
    "plt.xlabel('Épocas')\n",
    "plt.ylabel('Erro')\n",
    "plt.savefig('graficos/erros.png')"
   ]
  },
  {
   "cell_type": "markdown",
   "metadata": {},
   "source": [
    "## 5.2. Curva ROC - Abordagem Não Privada"
   ]
  },
  {
   "cell_type": "code",
   "execution_count": 60,
   "metadata": {},
   "outputs": [
    {
     "data": {
      "image/png": "[encoded data removed]",
      "text/plain": [
       "<Figure size 432x288 with 1 Axes>"
      ]
     },
     "metadata": {
      "needs_background": "light"
     },
     "output_type": "display_data"
    }
   ],
   "source": [
    "modelos = {'RL': y_prevRL, 'AGD': y_prevAGD, 'AD': y_prevAD, 'SVM': y_prevSVM, 'RF': y_prevRF, 'KNN': y_predKNN, 'PG': y_prevGP}\n",
    "for modelo in modelos:\n",
    "    fpr, tpr, thresholds = metrics.roc_curve(y_test, modelos[modelo])\n",
    "    plt.plot(fpr, tpr, lw=3, label= modelo + \" (AUROC = \"+str(round(metrics.auc(fpr, tpr), 2))+\")\")\n",
    "    plt.plot([0, 1], [0, 1], color='navy', lw=3, linestyle='--')\n",
    "    plt.legend()\n",
    "plt.xlabel('False Positive Rate')\n",
    "plt.ylabel('True Positive Rate')\n",
    "plt.title('Receiver operating characteristic (ROC) curve')\n",
    "plt.savefig('graficos/AUCNoPriv.png')"
   ]
  },
  {
   "cell_type": "markdown",
   "metadata": {},
   "source": [
    "## 5.3. Curva ROC - Abordagem Privada"
   ]
  },
  {
   "cell_type": "code",
   "execution_count": 61,
   "metadata": {},
   "outputs": [
    {
     "data": {
      "image/png": "[encoded data removed]",
      "text/plain": [
       "<Figure size 432x288 with 1 Axes>"
      ]
     },
     "metadata": {
      "needs_background": "light"
     },
     "output_type": "display_data"
    }
   ],
   "source": [
    "modelos = {'RL': y_prevRLP, 'AGD': y_prevAGDP, 'AD': y_prevADP, 'SVM': y_prevSVMP, 'RF': y_prevRFP, 'KNN': y_predKNNP, 'PG': y_prevGPP}\n",
    "for modelo in modelos:\n",
    "    fpr, tpr, thresholds = metrics.roc_curve(y_test, modelos[modelo])\n",
    "    plt.plot(fpr, tpr, lw=3, label= modelo + \" (AUROC = \"+str(round(metrics.auc(fpr, tpr), 2))+\")\")\n",
    "    plt.plot([0, 1], [0, 1], color='navy', lw=3, linestyle='--')\n",
    "    plt.legend()\n",
    "plt.xlabel('False Positive Rate')\n",
    "plt.ylabel('True Positive Rate')\n",
    "plt.title('Receiver operating characteristic (ROC) curve')\n",
    "plt.savefig('graficos/AUCPriv.png')"
   ]
  }
 ],
 "metadata": {
  "kernelspec": {
   "display_name": "Python 3",
   "language": "python",
   "name": "python3"
  },
  "language_info": {
   "codemirror_mode": {
    "name": "ipython",
    "version": 3
   },
   "file_extension": ".py",
   "mimetype": "text/x-python",
   "name": "python",
   "nbconvert_exporter": "python",
   "pygments_lexer": "ipython3",
   "version": "3.7.4"
  }
 },
 "nbformat": 4,
 "nbformat_minor": 2
}
